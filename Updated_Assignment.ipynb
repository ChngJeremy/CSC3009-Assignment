{
  "cells": [
    {
      "cell_type": "code",
      "execution_count": 2,
      "metadata": {
        "id": "K9xpoK1ME8dV"
      },
      "outputs": [],
      "source": [
        "import torch\n",
        "import torch.nn as nn\n",
        "import torch.nn.functional as F\n",
        "import torch.optim as optim\n",
        "import torchvision\n",
        "from torch.utils.data import TensorDataset, DataLoader\n",
        "from torch.utils.tensorboard import SummaryWriter\n",
        "from torchvision import transforms\n",
        "from PIL import Image\n",
        "from sklearn.model_selection import train_test_split\n",
        "import os\n",
        "from torchvision import models\n",
        "import matplotlib.pyplot as plt\n",
        "\n",
        "data_path = \".\""
      ]
    },
    {
      "cell_type": "markdown",
      "metadata": {
        "id": "S56X2najE8dX"
      },
      "source": [
        "### Sanity Check for GPU Runtime"
      ]
    },
    {
      "cell_type": "code",
      "execution_count": 3,
      "metadata": {
        "id": "Fj8y-bgcE8dZ"
      },
      "outputs": [],
      "source": [
        "device = torch.device(\"cuda:0\" if torch.cuda.is_available() else \"cpu\") # use gpu if available\n",
        "# print device name if using gpu with message \"Using GPU: device_name\"\n",
        "if device.type == \"cuda\":\n",
        "    print(\"Using GPU: {}\".format(torch.cuda.get_device_name(0)))\n"
      ]
    },
    {
      "cell_type": "markdown",
      "metadata": {
        "id": "P8HwOLwOE-J9"
      },
      "source": [
        "### Connecting to googledrive"
      ]
    },
    {
      "cell_type": "code",
      "execution_count": 4,
      "metadata": {
        "colab": {
          "base_uri": "https://localhost:8080/",
          "height": 381
        },
        "id": "6lnxsY9UFJIr",
        "outputId": "01acdc84-630b-44c1-c551-f8340ec1792f"
      },
      "outputs": [
        {
          "ename": "MessageError",
          "evalue": "ignored",
          "output_type": "error",
          "traceback": [
            "\u001b[0;31m---------------------------------------------------------------------------\u001b[0m",
            "\u001b[0;31mMessageError\u001b[0m                              Traceback (most recent call last)",
            "\u001b[0;32m<ipython-input-4-45f47a29cec0>\u001b[0m in \u001b[0;36m<cell line: 5>\u001b[0;34m()\u001b[0m\n\u001b[1;32m      3\u001b[0m \u001b[0;32mimport\u001b[0m \u001b[0mos\u001b[0m\u001b[0;34m\u001b[0m\u001b[0;34m\u001b[0m\u001b[0m\n\u001b[1;32m      4\u001b[0m \u001b[0;34m\u001b[0m\u001b[0m\n\u001b[0;32m----> 5\u001b[0;31m \u001b[0mdrive\u001b[0m\u001b[0;34m.\u001b[0m\u001b[0mmount\u001b[0m\u001b[0;34m(\u001b[0m\u001b[0;34m'/content/drive'\u001b[0m\u001b[0;34m)\u001b[0m\u001b[0;34m\u001b[0m\u001b[0;34m\u001b[0m\u001b[0m\n\u001b[0m\u001b[1;32m      6\u001b[0m \u001b[0;34m\u001b[0m\u001b[0m\n\u001b[1;32m      7\u001b[0m \u001b[0;31m# Specify the path of the uploaded dataset in your Google Drive\u001b[0m\u001b[0;34m\u001b[0m\u001b[0;34m\u001b[0m\u001b[0m\n",
            "\u001b[0;32m/usr/local/lib/python3.10/dist-packages/google/colab/drive.py\u001b[0m in \u001b[0;36mmount\u001b[0;34m(mountpoint, force_remount, timeout_ms, readonly)\u001b[0m\n\u001b[1;32m    101\u001b[0m \u001b[0;32mdef\u001b[0m \u001b[0mmount\u001b[0m\u001b[0;34m(\u001b[0m\u001b[0mmountpoint\u001b[0m\u001b[0;34m,\u001b[0m \u001b[0mforce_remount\u001b[0m\u001b[0;34m=\u001b[0m\u001b[0;32mFalse\u001b[0m\u001b[0;34m,\u001b[0m \u001b[0mtimeout_ms\u001b[0m\u001b[0;34m=\u001b[0m\u001b[0;36m120000\u001b[0m\u001b[0;34m,\u001b[0m \u001b[0mreadonly\u001b[0m\u001b[0;34m=\u001b[0m\u001b[0;32mFalse\u001b[0m\u001b[0;34m)\u001b[0m\u001b[0;34m:\u001b[0m\u001b[0;34m\u001b[0m\u001b[0;34m\u001b[0m\u001b[0m\n\u001b[1;32m    102\u001b[0m   \u001b[0;34m\"\"\"Mount your Google Drive at the specified mountpoint path.\"\"\"\u001b[0m\u001b[0;34m\u001b[0m\u001b[0;34m\u001b[0m\u001b[0m\n\u001b[0;32m--> 103\u001b[0;31m   return _mount(\n\u001b[0m\u001b[1;32m    104\u001b[0m       \u001b[0mmountpoint\u001b[0m\u001b[0;34m,\u001b[0m\u001b[0;34m\u001b[0m\u001b[0;34m\u001b[0m\u001b[0m\n\u001b[1;32m    105\u001b[0m       \u001b[0mforce_remount\u001b[0m\u001b[0;34m=\u001b[0m\u001b[0mforce_remount\u001b[0m\u001b[0;34m,\u001b[0m\u001b[0;34m\u001b[0m\u001b[0;34m\u001b[0m\u001b[0m\n",
            "\u001b[0;32m/usr/local/lib/python3.10/dist-packages/google/colab/drive.py\u001b[0m in \u001b[0;36m_mount\u001b[0;34m(mountpoint, force_remount, timeout_ms, ephemeral, readonly)\u001b[0m\n\u001b[1;32m    130\u001b[0m   )\n\u001b[1;32m    131\u001b[0m   \u001b[0;32mif\u001b[0m \u001b[0mephemeral\u001b[0m\u001b[0;34m:\u001b[0m\u001b[0;34m\u001b[0m\u001b[0;34m\u001b[0m\u001b[0m\n\u001b[0;32m--> 132\u001b[0;31m     _message.blocking_request(\n\u001b[0m\u001b[1;32m    133\u001b[0m         \u001b[0;34m'request_auth'\u001b[0m\u001b[0;34m,\u001b[0m \u001b[0mrequest\u001b[0m\u001b[0;34m=\u001b[0m\u001b[0;34m{\u001b[0m\u001b[0;34m'authType'\u001b[0m\u001b[0;34m:\u001b[0m \u001b[0;34m'dfs_ephemeral'\u001b[0m\u001b[0;34m}\u001b[0m\u001b[0;34m,\u001b[0m \u001b[0mtimeout_sec\u001b[0m\u001b[0;34m=\u001b[0m\u001b[0;32mNone\u001b[0m\u001b[0;34m\u001b[0m\u001b[0;34m\u001b[0m\u001b[0m\n\u001b[1;32m    134\u001b[0m     )\n",
            "\u001b[0;32m/usr/local/lib/python3.10/dist-packages/google/colab/_message.py\u001b[0m in \u001b[0;36mblocking_request\u001b[0;34m(request_type, request, timeout_sec, parent)\u001b[0m\n\u001b[1;32m    174\u001b[0m       \u001b[0mrequest_type\u001b[0m\u001b[0;34m,\u001b[0m \u001b[0mrequest\u001b[0m\u001b[0;34m,\u001b[0m \u001b[0mparent\u001b[0m\u001b[0;34m=\u001b[0m\u001b[0mparent\u001b[0m\u001b[0;34m,\u001b[0m \u001b[0mexpect_reply\u001b[0m\u001b[0;34m=\u001b[0m\u001b[0;32mTrue\u001b[0m\u001b[0;34m\u001b[0m\u001b[0;34m\u001b[0m\u001b[0m\n\u001b[1;32m    175\u001b[0m   )\n\u001b[0;32m--> 176\u001b[0;31m   \u001b[0;32mreturn\u001b[0m \u001b[0mread_reply_from_input\u001b[0m\u001b[0;34m(\u001b[0m\u001b[0mrequest_id\u001b[0m\u001b[0;34m,\u001b[0m \u001b[0mtimeout_sec\u001b[0m\u001b[0;34m)\u001b[0m\u001b[0;34m\u001b[0m\u001b[0;34m\u001b[0m\u001b[0m\n\u001b[0m",
            "\u001b[0;32m/usr/local/lib/python3.10/dist-packages/google/colab/_message.py\u001b[0m in \u001b[0;36mread_reply_from_input\u001b[0;34m(message_id, timeout_sec)\u001b[0m\n\u001b[1;32m    101\u001b[0m     ):\n\u001b[1;32m    102\u001b[0m       \u001b[0;32mif\u001b[0m \u001b[0;34m'error'\u001b[0m \u001b[0;32min\u001b[0m \u001b[0mreply\u001b[0m\u001b[0;34m:\u001b[0m\u001b[0;34m\u001b[0m\u001b[0;34m\u001b[0m\u001b[0m\n\u001b[0;32m--> 103\u001b[0;31m         \u001b[0;32mraise\u001b[0m \u001b[0mMessageError\u001b[0m\u001b[0;34m(\u001b[0m\u001b[0mreply\u001b[0m\u001b[0;34m[\u001b[0m\u001b[0;34m'error'\u001b[0m\u001b[0;34m]\u001b[0m\u001b[0;34m)\u001b[0m\u001b[0;34m\u001b[0m\u001b[0;34m\u001b[0m\u001b[0m\n\u001b[0m\u001b[1;32m    104\u001b[0m       \u001b[0;32mreturn\u001b[0m \u001b[0mreply\u001b[0m\u001b[0;34m.\u001b[0m\u001b[0mget\u001b[0m\u001b[0;34m(\u001b[0m\u001b[0;34m'data'\u001b[0m\u001b[0;34m,\u001b[0m \u001b[0;32mNone\u001b[0m\u001b[0;34m)\u001b[0m\u001b[0;34m\u001b[0m\u001b[0;34m\u001b[0m\u001b[0m\n\u001b[1;32m    105\u001b[0m \u001b[0;34m\u001b[0m\u001b[0m\n",
            "\u001b[0;31mMessageError\u001b[0m: Error: credential propagation was unsuccessful"
          ]
        }
      ],
      "source": [
        "# Optional for those utilizing google colab\n",
        "from google.colab import drive\n",
        "import os\n",
        "\n",
        "drive.mount('/content/drive')\n",
        "\n",
        "# Specify the path of the uploaded dataset in your Google Drive\n",
        "dataset_path = \"/content/drive/MyDrive/ML/\"\n",
        "if os.path.exists(dataset_path):\n",
        "    print(\"The file exists.\")\n",
        "else:\n",
        "    print(\"The file does not exist.\")\n",
        "\n",
        "data_path = dataset_path"
      ]
    },
    {
      "cell_type": "code",
      "execution_count": null,
      "metadata": {
        "id": "0DWSf0ZyYISA"
      },
      "outputs": [],
      "source": [
        "# Define the directories where your images are stored\n",
        "covid_dir = f\"{data_path}/dataset_14/covid\"\n",
        "normal_dir = f\"{data_path}/dataset_14/normal\""
      ]
    },
    {
      "cell_type": "markdown",
      "metadata": {
        "id": "5TcW7DcVX4SC"
      },
      "source": [
        "### Exploratory Data Analysis"
      ]
    },
    {
      "cell_type": "code",
      "execution_count": null,
      "metadata": {
        "id": "52vGQckpYBS3"
      },
      "outputs": [],
      "source": [
        "import matplotlib.pyplot as plt\n",
        "import numpy as np\n",
        "\n",
        "covid_image_data = []\n",
        "norm_image_data = []\n",
        "\n",
        "for filename in os.listdir(covid_dir):\n",
        "    img = Image.open(os.path.join(covid_dir, filename))\n",
        "    covid_image_data.append(img)\n",
        "for filename in os.listdir(normal_dir):\n",
        "    img = Image.open(os.path.join(normal_dir, filename))\n",
        "    norm_image_data.append(img)\n",
        "\n",
        "covid_image_data = np.array(covid_image_data)\n",
        "norm_image_data = np.array(norm_image_data)\n",
        "\n",
        "# Comparing Dataset size\n",
        "Num_Covid = np.size(covid_image_data)\n",
        "Num_Normal = np.size(norm_image_data)\n",
        "plt.bar([\"Covid\", \"Normal\"] , [Num_Covid, Num_Normal], width = .5)\n",
        "plt.title(\"Number of Images by Class\")\n",
        "plt.xlabel('Class Name')\n",
        "plt.ylabel('# Images')"
      ]
    },
    {
      "cell_type": "code",
      "execution_count": null,
      "metadata": {
        "id": "738MN521YkAl"
      },
      "outputs": [],
      "source": [
        "import matplotlib.pyplot as plt\n",
        "\n",
        "covid_image_data = []\n",
        "norm_image_data = []\n",
        "\n",
        "for filename in os.listdir(covid_dir):\n",
        "    img = Image.open(os.path.join(covid_dir, filename))\n",
        "    covid_image_data.append(img)\n",
        "for filename in os.listdir(normal_dir):\n",
        "    img = Image.open(os.path.join(normal_dir, filename))\n",
        "    norm_image_data.append(img)\n",
        "\n",
        "covid_image_data = np.array(covid_image_data)\n",
        "norm_image_data = np.array(norm_image_data)\n",
        "\n",
        "# Comparing Dataset size\n",
        "Num_Covid = np.size(covid_image_data)\n",
        "Num_Normal = np.size(norm_image_data)\n",
        "plt.bar([\"Covid\", \"Normal\"] , [Num_Covid, Num_Normal], width = .5);\n",
        "plt.title(\"Number of Images by Class\");\n",
        "plt.xlabel('Class Name');\n",
        "plt.ylabel('# Images');"
      ]
    },
    {
      "cell_type": "markdown",
      "metadata": {
        "id": "wQR82jykE8db"
      },
      "source": [
        "### Transform and Split the Dataset\n"
      ]
    },
    {
      "cell_type": "code",
      "execution_count": null,
      "metadata": {
        "id": "DMDnA67jYkzF"
      },
      "outputs": [],
      "source": [
        "covid_image_data\n",
        "norm_image_data\n",
        "\n",
        "covid_data = []\n",
        "norm_data = []\n",
        "\n",
        "for data in covid_image_data:\n",
        "  arr = np.array(data)\n",
        "  covid_data.append(arr)\n",
        "for data in norm_image_data:\n",
        "  arr = np.array(data)\n",
        "  norm_data.append(arr)\n",
        "\n",
        "covid_mean = np.mean(covid_data, axis=0)\n",
        "plt.imshow(covid_mean, cmap='gray')\n",
        "plt.axis('off')  # Remove the axis ticks and labels\n",
        "plt.show()\n",
        "\n",
        "norm_mean = np.mean(norm_data, axis=0)\n",
        "plt.imshow(norm_mean, cmap='gray')\n",
        "plt.axis('off')  # Remove the axis ticks and labels\n",
        "plt.show()\n",
        "\n",
        "plt.imshow(covid_mean, cmap='Blues', alpha=0.5)\n",
        "plt.imshow(norm_mean, cmap='Reds', alpha=0.5)\n",
        "plt.axis('off')\n",
        "plt.show()\n",
        "\n",
        "covid_std = np.std(covid_data, axis=0)\n",
        "plt.imshow(covid_std, cmap='gray')\n",
        "plt.axis('off')  # Remove the axis ticks and labels\n",
        "plt.show()\n",
        "\n",
        "norm_std = np.std(norm_data, axis=0)\n",
        "plt.imshow(norm_std, cmap='gray')\n",
        "plt.axis('off')  # Remove the axis ticks and labels\n",
        "plt.show()"
      ]
    },
    {
      "cell_type": "code",
      "execution_count": null,
      "metadata": {
        "id": "k46fn_ckE8db"
      },
      "outputs": [],
      "source": [
        "# Define the directories where your images are stored\n",
        "covid_dir = f\"{data_path}/dataset_14/covid\"\n",
        "normal_dir = f\"{data_path}/dataset_14/normal\"\n",
        "\n",
        "# Data augmentation\n",
        "transform_train = transforms.Compose([\n",
        "    transforms.Grayscale(num_output_channels=3),\n",
        "    transforms.RandomHorizontalFlip(),\n",
        "    transforms.RandomRotation(10),\n",
        "    transforms.Resize(224),\n",
        "    transforms.ToTensor(),\n",
        "    transforms.Normalize((0.5, 0.5, 0.5), (0.5, 0.5, 0.5))  # normalize in range [-1,1]\n",
        "])\n",
        "\n",
        "# Define a function to load and preprocess images\n",
        "def load_and_preprocess_image(file_path):\n",
        "    # Open the image file\n",
        "    with Image.open(file_path) as img:\n",
        "        # Apply the transformations\n",
        "        img_transformed = transform_train(img)  # use transform_train instead of transform\n",
        "    return img_transformed\n",
        "\n",
        "# Load and preprocess all images\n",
        "data = []\n",
        "labels = []\n",
        "for filename in os.listdir(covid_dir):\n",
        "    img_tensor = load_and_preprocess_image(os.path.join(covid_dir, filename))\n",
        "    data.append(img_tensor)\n",
        "    labels.append(1)  # '1' for 'covid'\n",
        "for filename in os.listdir(normal_dir):\n",
        "    img_tensor = load_and_preprocess_image(os.path.join(normal_dir, filename))\n",
        "    data.append(img_tensor)\n",
        "    labels.append(0)  # '0' for 'normal'\n",
        "\n",
        "# Convert the data and labels to PyTorch tensors\n",
        "data = torch.stack(data)\n",
        "labels = torch.tensor(labels)\n",
        "\n",
        "# First, split the data into a training set and a temporary set using an 80-20 split\n",
        "train_data, temp_data, train_labels, temp_labels = train_test_split(data, labels, test_size=0.2, random_state=42)\n",
        "\n",
        "# Then, split the temporary set into a validation set and a test set using a 50-50 split\n",
        "val_data, test_data, val_labels, test_labels = train_test_split(temp_data, temp_labels, test_size=0.5, random_state=42)"
      ]
    },
    {
      "cell_type": "code",
      "execution_count": null,
      "metadata": {
        "id": "03H43wWQE8dc"
      },
      "outputs": [],
      "source": [
        "train_dataset = TensorDataset(train_data, train_labels)\n",
        "val_dataset = TensorDataset(val_data, val_labels)\n",
        "test_dataset = TensorDataset(test_data, test_labels)\n",
        "\n",
        "# Number of images in the training set\n",
        "num_train_images = len(train_dataset)\n",
        "print(\"Number of images in the training set:\", num_train_images)\n",
        "\n",
        "# Number of images in the validation set\n",
        "num_val_images = len(val_dataset)\n",
        "print(\"Number of images in the validation set:\", num_val_images)\n",
        "\n",
        "# Number of images in the test set\n",
        "num_test_images = len(test_dataset)\n",
        "print(\"Number of images in the test set:\", num_test_images)"
      ]
    },
    {
      "cell_type": "markdown",
      "metadata": {
        "id": "ov1xtE46E8dc"
      },
      "source": [
        "### Create DataLoaders"
      ]
    },
    {
      "cell_type": "code",
      "execution_count": null,
      "metadata": {
        "id": "Nz3jC8V1E8dd"
      },
      "outputs": [],
      "source": [
        "# Create DataLoaders\n",
        "batch_size = 32 # Parameter: batch size\n",
        "train_dataloader = DataLoader(train_dataset, batch_size=batch_size, shuffle=True)\n",
        "val_dataloader = DataLoader(val_dataset, batch_size=batch_size, shuffle=True)\n",
        "test_dataloader = DataLoader(test_dataset, batch_size=batch_size, shuffle=True)"
      ]
    },
    {
      "cell_type": "markdown",
      "metadata": {
        "id": "m959DGj4XwgO"
      },
      "source": [
        "### Naive Bayes"
      ]
    },
    {
      "cell_type": "code",
      "execution_count": null,
      "metadata": {
        "id": "y34y4tKPXy1L"
      },
      "outputs": [],
      "source": [
        "import numpy as np\n",
        "from sklearn.naive_bayes import GaussianNB\n",
        "\n",
        "# Extract histogram-based features\n",
        "def extract_features(data):\n",
        "    features = []\n",
        "    for image in data:\n",
        "        hist_r, _ = np.histogram(image[0].numpy().ravel(), bins=256, range=[0, 256])\n",
        "        hist_g, _ = np.histogram(image[1].numpy().ravel(), bins=256, range=[0, 256])\n",
        "        hist_b, _ = np.histogram(image[2].numpy().ravel(), bins=256, range=[0, 256])\n",
        "        features.append(np.concatenate([hist_r, hist_g, hist_b]))\n",
        "    return np.array(features)\n",
        "\n",
        "# Extract features from the datasets\n",
        "train_features = extract_features(train_data)\n",
        "val_features = extract_features(val_data)\n",
        "test_features = extract_features(test_data)\n",
        "\n",
        "# Train the Naive Bayes classifier\n",
        "clf = GaussianNB()\n",
        "clf.fit(train_features, train_labels.numpy())\n",
        "\n",
        "# Evaluate on the validation set\n",
        "val_predictions = clf.predict(val_features)\n",
        "val_accuracy = np.mean(val_predictions == val_labels.numpy())\n",
        "\n",
        "# Evaluate on the test set\n",
        "test_predictions = clf.predict(test_features)\n",
        "test_accuracy = np.mean(test_predictions == test_labels.numpy())\n",
        "\n",
        "print(\"Validation Accuracy:\", val_accuracy)\n",
        "print(\"Test Accuracy:\", test_accuracy)"
      ]
    },
    {
      "cell_type": "markdown",
      "metadata": {
        "id": "Gn33bYmJLON3"
      },
      "source": [
        "### SVM"
      ]
    },
    {
      "cell_type": "code",
      "execution_count": null,
      "metadata": {
        "id": "6m55leEkLQwf"
      },
      "outputs": [],
      "source": [
        "import numpy as np\n",
        "from sklearn import svm\n",
        "\n",
        "# Flatten the image tensors and convert them to numpy arrays\n",
        "train_data_flat = train_data.view(train_data.size(0), -1).numpy()\n",
        "val_data_flat = val_data.view(val_data.size(0), -1).numpy()\n",
        "test_data_flat = test_data.view(test_data.size(0), -1).numpy()\n",
        "\n",
        "# Convert labels to numpy arrays\n",
        "train_labels_np = train_labels.numpy()\n",
        "val_labels_np = val_labels.numpy()\n",
        "test_labels_np = test_labels.numpy()\n",
        "\n",
        "# Create and train the SVM classifier\n",
        "clf = svm.SVC(kernel='linear')  # You can choose a different kernel if needed\n",
        "clf.fit(train_data_flat, train_labels_np)\n",
        "\n",
        "# Evaluate the classifier on the validation set\n",
        "val_predictions = clf.predict(val_data_flat)\n",
        "val_accuracy = np.mean(val_predictions == val_labels_np)\n",
        "print(\"Validation Accuracy:\", val_accuracy)\n",
        "\n",
        "# Evaluate the classifier on the test set\n",
        "test_predictions = clf.predict(test_data_flat)\n",
        "test_accuracy = np.mean(test_predictions == test_labels_np)\n",
        "print(\"Test Accuracy:\", test_accuracy)"
      ]
    },
    {
      "cell_type": "markdown",
      "metadata": {
        "id": "0RMTs5ymcLa7"
      },
      "source": [
        "### MLP"
      ]
    },
    {
      "cell_type": "code",
      "execution_count": null,
      "metadata": {
        "id": "Aqe-6csEcLr8"
      },
      "outputs": [],
      "source": [
        "import torch\n",
        "import torch.nn as nn\n",
        "import torch.optim as optim\n",
        "\n",
        "# Define the MLP architecture\n",
        "class MLP(nn.Module):\n",
        "    def __init__(self):\n",
        "        super(MLP, self).__init__()\n",
        "        self.fc1 = nn.Linear(224 * 224 * 3, 512)\n",
        "        self.fc2 = nn.Linear(512, 256)\n",
        "        self.fc3 = nn.Linear(256, 2)  # 2 output classes (covid, normal)\n",
        "\n",
        "    def forward(self, x):\n",
        "        x = x.view(x.size(0), -1)  # Flatten the input\n",
        "        x = F.relu(self.fc1(x))\n",
        "        x = F.relu(self.fc2(x))\n",
        "        x = self.fc3(x)\n",
        "        return x\n",
        "\n",
        "# Create the MLP model\n",
        "mlp = MLP()\n",
        "\n",
        "# Define the loss function and optimizer\n",
        "criterion = nn.CrossEntropyLoss()\n",
        "optimizer = optim.SGD(mlp.parameters(), lr=0.001, momentum=0.9)\n",
        "\n",
        "# Train the MLP\n",
        "num_epochs = 10  # Number of training epochs\n",
        "device = torch.device(\"cuda\" if torch.cuda.is_available() else \"cpu\")\n",
        "mlp.to(device)\n",
        "\n",
        "for epoch in range(num_epochs):\n",
        "    train_loss = 0.0\n",
        "    train_correct = 0\n",
        "\n",
        "    mlp.train()  # Set the model to training mode\n",
        "\n",
        "    for images, labels in train_dataloader:\n",
        "        images = images.to(device)\n",
        "        labels = labels.to(device)\n",
        "\n",
        "        optimizer.zero_grad()\n",
        "\n",
        "        # Forward pass\n",
        "        outputs = mlp(images)\n",
        "        loss = criterion(outputs, labels)\n",
        "\n",
        "        # Backward pass and optimization\n",
        "        loss.backward()\n",
        "        optimizer.step()\n",
        "\n",
        "        train_loss += loss.item()\n",
        "        _, predicted = torch.max(outputs.data, 1)\n",
        "        train_correct += (predicted == labels).sum().item()\n",
        "\n",
        "    train_loss /= len(train_dataloader)\n",
        "    train_accuracy = train_correct / len(train_dataset)\n",
        "\n",
        "    # Evaluate on the validation set\n",
        "    mlp.eval()  # Set the model to evaluation mode\n",
        "    val_loss = 0.0\n",
        "    val_correct = 0\n",
        "\n",
        "    with torch.no_grad():\n",
        "        for images, labels in val_dataloader:\n",
        "            images = images.to(device)\n",
        "            labels = labels.to(device)\n",
        "\n",
        "            outputs = mlp(images)\n",
        "            loss = criterion(outputs, labels)\n",
        "\n",
        "            val_loss += loss.item()\n",
        "            _, predicted = torch.max(outputs.data, 1)\n",
        "            val_correct += (predicted == labels).sum().item()\n",
        "\n",
        "    val_loss /= len(val_dataloader)\n",
        "    val_accuracy = val_correct / len(val_dataset)\n",
        "\n",
        "    print(f\"Epoch {epoch+1}/{num_epochs}: \"\n",
        "          f\"Train Loss: {train_loss:.4f}, Train Accuracy: {train_accuracy:.4f}, \"\n",
        "          f\"Val Loss: {val_loss:.4f}, Val Accuracy: {val_accuracy:.4f}\")\n",
        "\n",
        "# Evaluate the trained MLP on the test set\n",
        "mlp.eval()\n",
        "test_correct = 0\n",
        "\n",
        "with torch.no_grad():\n",
        "    for images, labels in test_dataloader:\n",
        "        images = images.to(device)\n",
        "        labels = labels.to(device)\n",
        "\n",
        "        outputs = mlp(images)\n",
        "        _, predicted = torch.max(outputs.data, 1)\n",
        "        test_correct += (predicted == labels).sum().item()\n",
        "\n",
        "test_accuracy = test_correct / len(test_dataset)\n",
        "print(\"Test Accuracy:\", test_accuracy)"
      ]
    },
    {
      "cell_type": "markdown",
      "metadata": {
        "id": "QZwLnYZjE8dd"
      },
      "source": [
        "### CNN\n"
      ]
    },
    {
      "cell_type": "code",
      "execution_count": null,
      "metadata": {
        "id": "XushGWD3E8de"
      },
      "outputs": [],
      "source": [
        "# Define the CNN architecture\n",
        "class CNN(nn.Module):\n",
        "    def __init__(self):\n",
        "        super(CNN, self).__init__()\n",
        "        self.conv_layers = nn.Sequential(\n",
        "            # conv1\n",
        "            nn.Conv2d(in_channels=3, out_channels=32, kernel_size=3, padding=1),\n",
        "            nn.ReLU(),\n",
        "            nn.BatchNorm2d(32),\n",
        "            nn.Conv2d(in_channels=32, out_channels=32, kernel_size=3, padding=1),\n",
        "            nn.ReLU(),\n",
        "            nn.BatchNorm2d(32),\n",
        "            nn.MaxPool2d(2),\n",
        "            # conv2\n",
        "            nn.Conv2d(in_channels=32, out_channels=64, kernel_size=3, padding=1),\n",
        "            nn.ReLU(),\n",
        "            nn.BatchNorm2d(64),\n",
        "            nn.Conv2d(in_channels=64, out_channels=64, kernel_size=3, padding=1),\n",
        "            nn.ReLU(),\n",
        "            nn.BatchNorm2d(64),\n",
        "            nn.MaxPool2d(2),\n",
        "            # conv3\n",
        "            nn.Conv2d(in_channels=64, out_channels=128, kernel_size=3, padding=1),\n",
        "            nn.ReLU(),\n",
        "            nn.BatchNorm2d(128),\n",
        "            nn.Conv2d(in_channels=128, out_channels=128, kernel_size=3, padding=1),\n",
        "            nn.ReLU(),\n",
        "            nn.BatchNorm2d(128),\n",
        "            nn.MaxPool2d(2),\n",
        "            # conv4\n",
        "            nn.Conv2d(in_channels=128, out_channels=256, kernel_size=3, padding=1),\n",
        "            nn.ReLU(),\n",
        "            nn.BatchNorm2d(256),\n",
        "            nn.Conv2d(in_channels=256, out_channels=256, kernel_size=3, padding=1),\n",
        "            nn.ReLU(),\n",
        "            nn.BatchNorm2d(256),\n",
        "            nn.MaxPool2d(2),\n",
        "        )\n",
        "\n",
        "        self.dense_layers = nn.Sequential(\n",
        "            nn.Dropout(0.4),\n",
        "            nn.Linear(50176, 1024),\n",
        "            nn.ReLU(),\n",
        "            nn.Dropout(0.4),\n",
        "            nn.Linear(1024, 2),  # Changed K to 2\n",
        "        )\n",
        "\n",
        "    def forward(self, X):\n",
        "        out = self.conv_layers(X)\n",
        "\n",
        "    # Flatten the output of the conv layers\n",
        "        out = out.view(out.size(0), -1)\n",
        "\n",
        "    # Fully connected\n",
        "        out = self.dense_layers(out)\n",
        "        return out\n",
        "\n",
        "net = CNN()\n",
        "net = net.to(device) # move the network to GPU if available\n",
        "\n",
        "# Define the loss function and optimizer\n",
        "criterion = nn.CrossEntropyLoss()\n",
        "optimizer = optim.SGD(net.parameters(), lr=0.001, momentum=0.9,\n",
        "                      weight_decay = 0.01)\n",
        "\n",
        "# Train the CNN\n",
        "train_losses = []\n",
        "train_accuracies = []\n",
        "val_losses = []\n",
        "val_accuracies = []\n",
        "\n",
        "num_epochs = 10  # Number of training epochs\n",
        "patience = 5  # number of epochs to wait before stopping if no improvement\n",
        "early_stopping_wait = 0\n",
        "best_val_loss = float('inf')\n",
        "device = torch.device(\"cuda\" if torch.cuda.is_available() else \"cpu\")\n",
        "net.to(device)\n",
        "\n",
        "for epoch in range(num_epochs):\n",
        "    train_loss = 0.0\n",
        "    train_correct = 0\n",
        "\n",
        "    net.train()  # Set the model to training mode\n",
        "\n",
        "    for images, labels in train_dataloader:\n",
        "        images = images.to(device)\n",
        "        labels = labels.to(device)\n",
        "\n",
        "        optimizer.zero_grad()\n",
        "\n",
        "        # Forward pass\n",
        "        outputs = net(images)\n",
        "        loss = criterion(outputs, labels)\n",
        "\n",
        "        # Backward pass and optimization\n",
        "        loss.backward()\n",
        "        optimizer.step()\n",
        "\n",
        "        train_loss += loss.item()\n",
        "        _, predicted = torch.max(outputs.data, 1)\n",
        "        train_correct += (predicted == labels).sum().item()\n",
        "\n",
        "    train_loss /= len(train_dataloader)\n",
        "    train_accuracy = train_correct / len(train_dataset)\n",
        "\n",
        "    # Append train metrics after calculation\n",
        "    train_losses.append(train_loss)\n",
        "    train_accuracies.append(train_accuracy)\n",
        "\n",
        "    # Evaluate on the validation set\n",
        "    net.eval()  # Set the model to evaluation mode\n",
        "    val_loss = 0.0\n",
        "    val_correct = 0\n",
        "\n",
        "    with torch.no_grad():\n",
        "        for images, labels in val_dataloader:\n",
        "            images = images.to(device)\n",
        "            labels = labels.to(device)\n",
        "\n",
        "            outputs = net(images)\n",
        "            loss = criterion(outputs, labels)\n",
        "\n",
        "            val_loss += loss.item()\n",
        "            _, predicted = torch.max(outputs.data, 1)\n",
        "            val_correct += (predicted == labels).sum().item()\n",
        "\n",
        "    val_loss /= len(val_dataloader)\n",
        "    val_accuracy = val_correct / len(val_dataset)\n",
        "\n",
        "    # Append validation metrics after calculation\n",
        "    val_losses.append(val_loss)\n",
        "    val_accuracies.append(val_accuracy)\n",
        "\n",
        "    print(f\"Epoch {epoch+1}/{num_epochs}: \"\n",
        "          f\"Train Loss: {train_loss:.4f}, Train Accuracy: {train_accuracy:.4f}, \"\n",
        "          f\"Val Loss: {val_loss:.4f}, Val Accuracy: {val_accuracy:.4f}\")\n",
        "\n",
        "    # At the end of each epoch, after the validation\n",
        "    if val_loss < best_val_loss:\n",
        "        best_val_loss = val_loss\n",
        "        torch.save(net.state_dict(), '/content/drive/MyDrive/ML/CNN.pth')\n",
        "        early_stopping_wait = 0\n",
        "    else:\n",
        "        early_stopping_wait += 1\n",
        "        if early_stopping_wait >= patience:\n",
        "            print(\"Early stopping\")\n",
        "            break  # breaks out of the for loop for the epochs\n",
        "\n",
        "# Evaluate the trained CNN on the test set\n",
        "net.eval()\n",
        "test_correct = 0\n",
        "\n",
        "with torch.no_grad():\n",
        "    for images, labels in test_dataloader:\n",
        "        images = images.to(device)\n",
        "        labels = labels.to(device)\n",
        "\n",
        "        outputs = net(images)\n",
        "        _, predicted = torch.max(outputs.data, 1)\n",
        "        test_correct += (predicted == labels).sum().item()\n",
        "\n",
        "test_accuracy = test_correct / len(test_dataset)\n",
        "print(\"Test Accuracy:\", test_accuracy)\n",
        "\n",
        "# Plot the training accuracy\n",
        "plt.figure(figsize=(12, 6))\n",
        "plt.subplot(1, 2, 1)\n",
        "plt.plot(range(num_epochs), train_accuracies, color='blue', label='Train Accuracy')\n",
        "plt.plot(range(num_epochs), val_accuracies, color='orange', label='Validation Accuracy')\n",
        "plt.title('Train and Validation Accuracy')\n",
        "plt.xlabel('Epoch')\n",
        "plt.ylabel('Accuracy')\n",
        "plt.legend(loc='lower right')\n",
        "\n",
        "# Plot the validation loss\n",
        "plt.subplot(1, 2, 2)\n",
        "plt.plot(range(num_epochs), train_losses, color='blue', label='Train Loss')\n",
        "plt.plot(range(num_epochs), val_losses, color='orange', label='Validation Loss')\n",
        "plt.title('Train and Validation Loss')\n",
        "plt.xlabel('Epoch')\n",
        "plt.ylabel('Loss')\n",
        "plt.legend(loc='upper right')\n",
        "\n",
        "plt.tight_layout()\n",
        "plt.show()\n",
        "\n"
      ]
    },
    {
      "cell_type": "markdown",
      "metadata": {
        "id": "NZG6a0Q-OyWK"
      },
      "source": [
        "### Confusion Matrix for results evaluation"
      ]
    },
    {
      "cell_type": "code",
      "execution_count": null,
      "metadata": {
        "id": "sIA4KSPLOxpi"
      },
      "outputs": [],
      "source": [
        "from sklearn.metrics import confusion_matrix\n",
        "import seaborn as sns\n",
        "\n",
        "# Initialize lists to hold labels and predictions\n",
        "true_labels = []\n",
        "pred_labels = []\n",
        "\n",
        "# Iterate through test set and make predictions\n",
        "with torch.no_grad():\n",
        "    for images, labels in test_dataloader:\n",
        "        images = images.to(device)\n",
        "        labels = labels.to(device)\n",
        "        outputs = net(images)\n",
        "        _, predicted = torch.max(outputs.data, 1)\n",
        "        true_labels.extend(labels.cpu().numpy())\n",
        "        pred_labels.extend(predicted.cpu().numpy())\n",
        "\n",
        "# Create the confusion matrix\n",
        "cm = confusion_matrix(true_labels, pred_labels)\n",
        "\n",
        "# Plot the confusion matrix\n",
        "plt.figure(figsize=(10, 10))\n",
        "sns.heatmap(cm, annot=True, fmt='d', cmap='Blues',annot_kws={\"size\": 20})\n",
        "plt.xlabel('Predicted (0 for not COVID and 1 for COVID)')\n",
        "plt.ylabel('True (0 for not COVID and 1 for COVID)')\n",
        "plt.title('Confusion Matrix for CNN')\n",
        "plt.show()\n"
      ]
    },
    {
      "cell_type": "markdown",
      "metadata": {
        "id": "H2WWl5yZO4fd"
      },
      "source": [
        "### Further Error Analysis"
      ]
    },
    {
      "cell_type": "code",
      "execution_count": null,
      "metadata": {
        "id": "lyzIr1jPO7yJ"
      },
      "outputs": [],
      "source": [
        "# Initialize lists to hold images, predictions and labels\n",
        "incorrect_imgs = []\n",
        "incorrect_labels = []\n",
        "incorrect_preds = []\n",
        "\n",
        "# Move through the entire test dataset\n",
        "for images, labels in test_dataloader:\n",
        "    # Move model inputs to cuda, if GPU available\n",
        "    if torch.cuda.is_available():\n",
        "        images = images.cuda()\n",
        "\n",
        "    # Get sample outputs\n",
        "    output = net(images)\n",
        "\n",
        "    # Convert output probabilities to predicted class\n",
        "    _, preds_tensor = torch.max(output, 1)\n",
        "    preds = np.squeeze(preds_tensor.cpu().numpy())\n",
        "\n",
        "    # Check which indices are incorrect\n",
        "    incorrect_idx = np.where(preds != labels.cpu().numpy())[0]\n",
        "\n",
        "    # Append the incorrect images, labels and predictions to the respective lists\n",
        "    incorrect_imgs.extend(images[incorrect_idx].cpu())\n",
        "    incorrect_labels.extend(labels[incorrect_idx].cpu().numpy())\n",
        "    incorrect_preds.extend(preds[incorrect_idx])\n",
        "\n",
        "# Convert the lists to numpy arrays for easier handling\n",
        "incorrect_imgs = [img.numpy() for img in incorrect_imgs]\n",
        "incorrect_labels = np.array(incorrect_labels)\n",
        "incorrect_preds = np.array(incorrect_preds)\n",
        "\n",
        "# Plot the misclassified images\n",
        "fig = plt.figure(figsize=(20, 5))  # Adjust figure size here\n",
        "plt.subplots_adjust(wspace=0.1, hspace=0.3)  # Adjust space between subplots here\n",
        "\n",
        "for idx in range(len(incorrect_imgs)):\n",
        "    ax = fig.add_subplot(3, len(incorrect_imgs) // 2, idx+1, xticks=[], yticks=[])\n",
        "    img = incorrect_imgs[idx]\n",
        "    img = img.transpose(1, 2, 0)  # Reshape images\n",
        "    ax.imshow(np.clip(img, 0, 1), cmap='gray')\n",
        "    ax.set_title(f\"Predicted: {incorrect_preds[idx]}, Actual: {incorrect_labels[idx]}\")\n",
        "\n",
        "plt.show()\n",
        "\n"
      ]
    },
    {
      "cell_type": "markdown",
      "metadata": {
        "id": "Pe1YVdgPE8de"
      },
      "source": [
        "## Transfer Learning with VGG-16"
      ]
    },
    {
      "cell_type": "code",
      "execution_count": null,
      "metadata": {
        "id": "yGlB6I26E8de"
      },
      "outputs": [],
      "source": [
        "# Load pre-trained VGG16 model\n",
        "net = models.vgg16(pretrained=True)\n",
        "# net = models.vgg16(weights=None)\n",
        "\n",
        "\n",
        "# Modify the last layer\n",
        "num_features = net.classifier[6].in_features\n",
        "net.classifier[6] = nn.Linear(num_features, 2)  # '2' for 'covid' and 'normal'\n",
        "\n",
        "# Move model to GPU if available\n",
        "net = net.to(device)\n",
        "\n",
        "# Loss function and optimizer\n",
        "criterion = nn.CrossEntropyLoss()\n",
        "optimizer = optim.SGD(net.parameters(), lr=0.001, momentum=0.9)\n",
        "\n",
        "# initialize tensorboard\n",
        "writer = SummaryWriter('runs/covid_classifier_experiment_1')\n"
      ]
    },
    {
      "cell_type": "markdown",
      "metadata": {
        "id": "kzA3N1XWE8df"
      },
      "source": [
        "### Training Loop\n"
      ]
    },
    {
      "cell_type": "code",
      "execution_count": 1,
      "metadata": {
        "colab": {
          "base_uri": "https://localhost:8080/",
          "height": 235
        },
        "id": "dMKti-I-E8df",
        "outputId": "862ea3df-179c-44cc-ee6e-700bd762983b"
      },
      "outputs": [
        {
          "ename": "NameError",
          "evalue": "ignored",
          "output_type": "error",
          "traceback": [
            "\u001b[0;31m---------------------------------------------------------------------------\u001b[0m",
            "\u001b[0;31mNameError\u001b[0m                                 Traceback (most recent call last)",
            "\u001b[0;32m<ipython-input-1-ba4811655cde>\u001b[0m in \u001b[0;36m<cell line: 10>\u001b[0;34m()\u001b[0m\n\u001b[1;32m      8\u001b[0m \u001b[0;34m\u001b[0m\u001b[0m\n\u001b[1;32m      9\u001b[0m \u001b[0;31m# Use weight decay in the optimizer for L2 regularization\u001b[0m\u001b[0;34m\u001b[0m\u001b[0;34m\u001b[0m\u001b[0m\n\u001b[0;32m---> 10\u001b[0;31m \u001b[0moptimizer\u001b[0m \u001b[0;34m=\u001b[0m \u001b[0mtorch\u001b[0m\u001b[0;34m.\u001b[0m\u001b[0moptim\u001b[0m\u001b[0;34m.\u001b[0m\u001b[0mSGD\u001b[0m\u001b[0;34m(\u001b[0m\u001b[0mnet\u001b[0m\u001b[0;34m.\u001b[0m\u001b[0mparameters\u001b[0m\u001b[0;34m(\u001b[0m\u001b[0;34m)\u001b[0m\u001b[0;34m,\u001b[0m \u001b[0mlr\u001b[0m\u001b[0;34m=\u001b[0m\u001b[0;36m0.001\u001b[0m\u001b[0;34m,\u001b[0m \u001b[0mmomentum\u001b[0m\u001b[0;34m=\u001b[0m\u001b[0;36m0.9\u001b[0m\u001b[0;34m,\u001b[0m \u001b[0mweight_decay\u001b[0m\u001b[0;34m=\u001b[0m\u001b[0;36m0.01\u001b[0m\u001b[0;34m)\u001b[0m\u001b[0;34m\u001b[0m\u001b[0;34m\u001b[0m\u001b[0m\n\u001b[0m\u001b[1;32m     11\u001b[0m \u001b[0;34m\u001b[0m\u001b[0m\n\u001b[1;32m     12\u001b[0m \u001b[0;31m# Define a learning rate scheduler\u001b[0m\u001b[0;34m\u001b[0m\u001b[0;34m\u001b[0m\u001b[0m\n",
            "\u001b[0;31mNameError\u001b[0m: name 'torch' is not defined"
          ]
        }
      ],
      "source": [
        "from torch.optim import lr_scheduler\n",
        "\n",
        "train_losses, train_accuracies = [], []\n",
        "val_losses, val_accuracies = [], []\n",
        "patience = 3\n",
        "early_stop_counter = 0\n",
        "best_val_loss = float('inf')\n",
        "\n",
        "# Use weight decay in the optimizer for L2 regularization\n",
        "optimizer = torch.optim.SGD(net.parameters(), lr=0.001, momentum=0.9, weight_decay=0.01)\n",
        "\n",
        "# Define a learning rate scheduler\n",
        "scheduler = lr_scheduler.ReduceLROnPlateau(optimizer, mode='min', factor=0.1, patience=1, verbose=True)\n",
        "\n",
        "# Train the model\n",
        "for epoch in range(10):  # loop over the dataset multiple times\n",
        "    net.train()  # ensure the model is in training mode\n",
        "    running_loss = 0.0\n",
        "    correct = 0\n",
        "    total = 0\n",
        "\n",
        "    # Training loop\n",
        "    for i, data in enumerate(train_dataloader, 0):\n",
        "        inputs, labels = data[0].to(device), data[1].to(device)\n",
        "\n",
        "        optimizer.zero_grad()\n",
        "\n",
        "        outputs = net(inputs)\n",
        "        loss = criterion(outputs, labels)\n",
        "        loss.backward()\n",
        "        optimizer.step()\n",
        "\n",
        "        _, predicted = torch.max(outputs.data, 1)\n",
        "        total += labels.size(0)\n",
        "        correct += (predicted == labels).sum().item()\n",
        "\n",
        "        running_loss += loss.item()\n",
        "\n",
        "    train_loss = running_loss / len(train_dataloader)\n",
        "    train_accuracy = 100 * correct / total\n",
        "    train_losses.append(train_loss)\n",
        "    train_accuracies.append(train_accuracy)\n",
        "\n",
        "    print(f'Epoch {epoch + 1}: Train Loss: {train_loss:.3f}, Train Accuracy: {train_accuracy:.2f}')\n",
        "\n",
        "    # Validation loop\n",
        "    net.eval()  # ensure the model is in evaluation mode\n",
        "    val_running_loss = 0.0\n",
        "    val_correct = 0\n",
        "    val_total = 0\n",
        "\n",
        "    with torch.no_grad():\n",
        "        for data in val_dataloader:\n",
        "            images, labels = data[0].to(device), data[1].to(device)\n",
        "\n",
        "            outputs = net(images)\n",
        "\n",
        "            _, predicted = torch.max(outputs.data, 1)\n",
        "            val_total += labels.size(0)\n",
        "            val_correct += (predicted == labels).sum().item()\n",
        "\n",
        "            loss = criterion(outputs, labels)\n",
        "            val_running_loss += loss.item()\n",
        "\n",
        "    val_loss = val_running_loss / len(val_dataloader)\n",
        "    val_accuracy = 100 * val_correct / val_total\n",
        "    val_losses.append(val_loss)\n",
        "    val_accuracies.append(val_accuracy)\n",
        "\n",
        "    print(f'Epoch {epoch + 1}: Val Loss: {val_loss:.3f}, Val Accuracy: {val_accuracy:.2f}')\n",
        "\n",
        "    # Early stopping\n",
        "    if val_loss < best_val_loss:\n",
        "        best_val_loss = val_loss\n",
        "        early_stop_counter = 0\n",
        "    else:\n",
        "        early_stop_counter += 1\n",
        "        if early_stop_counter >= patience:\n",
        "            print(\"Early stopping\")\n",
        "            break\n",
        "\n",
        "    # Step with the scheduler\n",
        "    scheduler.step(val_loss)\n",
        "\n",
        "# Plotting\n",
        "plt.figure(figsize=(12, 6))\n",
        "# Training and validation accuracy\n",
        "plt.subplot(1, 2, 1)\n",
        "plt.plot(range(len(train_accuracies)), train_accuracies, color='blue', label='Train Accuracy')\n",
        "plt.plot(range(len(val_accuracies)), val_accuracies, color='orange', label='Validation Accuracy')\n",
        "plt.title('Train and Validation Accuracy')\n",
        "plt.xlabel('Epoch')\n",
        "plt.ylabel('Accuracy')\n",
        "plt.legend(loc='lower right')\n",
        "\n",
        "# Training and validation loss\n",
        "plt.subplot(1, 2, 2)\n",
        "plt.plot(range(len(train_losses)), train_losses, color='blue', label='Train Loss')\n",
        "plt.plot(range(len(val_losses)), val_losses, color='orange', label='Validation Loss')\n",
        "plt.title('Train and Validation Loss')\n",
        "plt.xlabel('Epoch')\n",
        "plt.ylabel('Loss')\n",
        "plt.legend(loc='upper right')\n",
        "\n",
        "plt.tight_layout()\n",
        "plt.show()\n"
      ]
    },
    {
      "cell_type": "markdown",
      "metadata": {
        "id": "oLxJqv4YYg7C"
      },
      "source": [
        "### Confusion Matrix with VGG16"
      ]
    },
    {
      "cell_type": "code",
      "execution_count": 54,
      "metadata": {
        "colab": {
          "base_uri": "https://localhost:8080/",
          "height": 872
        },
        "id": "2ADad-kmYjtJ",
        "outputId": "0d91d062-c53e-4cd4-9cc2-10fd8edeae31"
      },
      "outputs": [
        {
          "data": {
            "image/png": "[encoded data removed]",
            "text/plain": [
              "<Figure size 1000x1000 with 2 Axes>"
            ]
          },
          "metadata": {},
          "output_type": "display_data"
        }
      ],
      "source": [
        "from sklearn.metrics import confusion_matrix\n",
        "import seaborn as sns\n",
        "\n",
        "# Evaluate the model with the test data to create the confusion matrix after training and validation\n",
        "net.eval()  # ensure the model is in evaluation mode\n",
        "all_labels = []\n",
        "all_predictions = []\n",
        "\n",
        "with torch.no_grad():\n",
        "    for data in test_dataloader:\n",
        "        images, labels = data[0].to(device), data[1].to(device)\n",
        "        outputs = net(images)\n",
        "        _, predicted = torch.max(outputs.data, 1)\n",
        "        all_labels.extend(labels.cpu().numpy())\n",
        "        all_predictions.extend(predicted.cpu().numpy())\n",
        "\n",
        "# Create a confusion matrix\n",
        "cm = confusion_matrix(all_labels, all_predictions)\n",
        "\n",
        "# Plot the confusion matrix\n",
        "plt.figure(figsize=(10, 10))\n",
        "sns.heatmap(cm, annot=True, fmt=\"d\", cmap='Blues', xticklabels=[\"Non-Covid\", \"Covid\"], yticklabels=[\"Non-Covid\", \"Covid\"],annot_kws={\"size\": 20})\n",
        "plt.title('Confusion Matrix for VGG16')\n",
        "plt.ylabel('True')\n",
        "plt.xlabel('Predicted')\n",
        "plt.show()"
      ]
    },
    {
      "cell_type": "markdown",
      "metadata": {
        "id": "jsQ67EKTYkcA"
      },
      "source": [
        "### See what was misclassified"
      ]
    },
    {
      "cell_type": "code",
      "execution_count": null,
      "metadata": {
        "id": "yJdCWdQ6Zqz0"
      },
      "outputs": [],
      "source": []
    },
    {
      "cell_type": "code",
      "execution_count": 56,
      "metadata": {
        "colab": {
          "base_uri": "https://localhost:8080/",
          "height": 444
        },
        "id": "Qs5nghxLZr7H",
        "outputId": "1a613cc6-561d-4ac6-cce4-7d6a963a71fe"
      },
      "outputs": [
        {
          "data": {
            "image/png": "[encoded data removed]",
            "text/plain": [
              "<Figure size 2000x500 with 5 Axes>"
            ]
          },
          "metadata": {},
          "output_type": "display_data"
        }
      ],
      "source": [
        "# Initialize lists to hold images, predictions and labels\n",
        "incorrect_imgs = []\n",
        "incorrect_labels = []\n",
        "incorrect_preds = []\n",
        "\n",
        "# Move through the entire test dataset\n",
        "for images, labels in test_dataloader:\n",
        "    # Move model inputs to cuda, if GPU available\n",
        "    if torch.cuda.is_available():\n",
        "        images = images.cuda()\n",
        "\n",
        "    # Get sample outputs\n",
        "    output = net(images)\n",
        "\n",
        "    # Convert output probabilities to predicted class\n",
        "    _, preds_tensor = torch.max(output, 1)\n",
        "    preds = np.squeeze(preds_tensor.cpu().numpy())\n",
        "\n",
        "    # Check which indices are incorrect\n",
        "    incorrect_idx = np.where(preds != labels.cpu().numpy())[0]\n",
        "\n",
        "    # Append the incorrect images, labels and predictions to the respective lists\n",
        "    incorrect_imgs.extend(images[incorrect_idx].cpu())\n",
        "    incorrect_labels.extend(labels[incorrect_idx].cpu().numpy())\n",
        "    incorrect_preds.extend(preds[incorrect_idx])\n",
        "\n",
        "# Convert the lists to numpy arrays for easier handling\n",
        "incorrect_imgs = [img.numpy() for img in incorrect_imgs]\n",
        "incorrect_labels = np.array(incorrect_labels)\n",
        "incorrect_preds = np.array(incorrect_preds)\n",
        "\n",
        "# Plot the misclassified images\n",
        "fig = plt.figure(figsize=(20, 5))  # Adjust figure size here\n",
        "plt.subplots_adjust(wspace=0.1, hspace=0.3)  # Adjust space between subplots here\n",
        "\n",
        "for idx in range(len(incorrect_imgs)):\n",
        "    ax = fig.add_subplot(3, len(incorrect_imgs) // 2, idx+1, xticks=[], yticks=[])\n",
        "    img = incorrect_imgs[idx]\n",
        "    img = img.transpose(1, 2, 0)  # Reshape images\n",
        "    ax.imshow(np.clip(img, 0, 1), cmap='gray')\n",
        "    ax.set_title(f\"Predicted: {incorrect_preds[idx]}, Actual: {incorrect_labels[idx]}\")\n",
        "\n",
        "plt.show()\n",
        "\n"
      ]
    },
    {
      "cell_type": "markdown",
      "metadata": {
        "id": "K0IdCWIHE8df"
      },
      "source": [
        "### Test the network on the test data"
      ]
    },
    {
      "cell_type": "code",
      "execution_count": null,
      "metadata": {
        "id": "MWsqXt0cE8df"
      },
      "outputs": [],
      "source": [
        "\n",
        "# Accuracy test and image comparison on validation set\n",
        "correct = 0\n",
        "total = 0\n",
        "with torch.no_grad():\n",
        "        for data in val_dataloader:\n",
        "            images, labels = data[0].to(device), data[1].to(device)\n",
        "            outputs = net(images)\n",
        "        _, predicted = torch.max(outputs.data, 1)\n",
        "        total += labels.size(0)\n",
        "        correct += (predicted == labels).sum().item()\n",
        "\n",
        "        # Add image comparisons to TensorBoard\n",
        "        img_grid = torchvision.utils.make_grid(images)\n",
        "        writer.add_image('covid_vs_normal', img_grid)\n",
        "\n",
        "        writer.add_scalar('Accuracy/validation', 100 * correct / total, epoch)\n",
        "        writer.add_scalar('Loss/validation', running_loss, epoch)\n",
        "\n",
        "print('Accuracy of the network on the validation images: %d %%' % (\n",
        "    100 * correct / total))\n"
      ]
    },
    {
      "cell_type": "markdown",
      "metadata": {
        "id": "wmpVMJpGvpb2"
      },
      "source": [
        "### GNN"
      ]
    },
    {
      "cell_type": "code",
      "execution_count": null,
      "metadata": {
        "id": "HAyxUJ7JvqsW"
      },
      "outputs": [],
      "source": [
        "# Define the directories where your images are stored\n",
        "covid_dir = f\"{data_path}/dataset_14/covid\"\n",
        "normal_dir = f\"{data_path}/dataset_14/normal\"\n",
        "\n",
        "# Data augmentation\n",
        "transform_train = transforms.Compose([\n",
        "    transforms.Grayscale(num_output_channels=1),  # Convert to single channel\n",
        "    transforms.RandomHorizontalFlip(),\n",
        "    transforms.RandomRotation(10),\n",
        "    transforms.Resize(128),\n",
        "    transforms.ToTensor(),\n",
        "    transforms.Normalize((0.5,), (0.5,))  # Normalize in range [-1,1]\n",
        "])\n",
        "\n",
        "# Define a function to load and preprocess images\n",
        "def load_and_preprocess_image(file_path):\n",
        "    # Open the image file\n",
        "    with Image.open(file_path) as img:\n",
        "        # Apply the transformations\n",
        "        img_transformed = transform_train(img)  # use transform_train instead of transform\n",
        "    return img_transformed\n",
        "\n",
        "# Load and preprocess all images\n",
        "data = []\n",
        "labels = []\n",
        "for filename in os.listdir(covid_dir):\n",
        "    img_tensor = load_and_preprocess_image(os.path.join(covid_dir, filename))\n",
        "    data.append(img_tensor)\n",
        "    labels.append(1)  # '1' for 'covid'\n",
        "for filename in os.listdir(normal_dir):\n",
        "    img_tensor = load_and_preprocess_image(os.path.join(normal_dir, filename))\n",
        "    data.append(img_tensor)\n",
        "    labels.append(0)  # '0' for 'normal'\n",
        "\n",
        "# Convert the data and labels to PyTorch tensors\n",
        "data = torch.stack(data)\n",
        "labels = torch.tensor(labels)\n",
        "\n",
        "# First, split the data into a training set and a temporary set using an 80-20 split\n",
        "train_data, temp_data, train_labels, temp_labels = train_test_split(data, labels, test_size=0.2, random_state=42)\n",
        "\n",
        "# Then, split the temporary set into a validation set and a test set using a 50-50 split\n",
        "val_data, test_data, val_labels, test_labels = train_test_split(temp_data, temp_labels, test_size=0.5, random_state=42)\n",
        "\n",
        "train_dataset = TensorDataset(train_data, train_labels)\n",
        "val_dataset = TensorDataset(val_data, val_labels)\n",
        "test_dataset = TensorDataset(test_data, test_labels)\n",
        "\n",
        "# Create DataLoaders\n",
        "batch_size = 4 # Parameter: batch size\n",
        "train_dataloader = DataLoader(train_dataset, batch_size=batch_size, shuffle=True)\n",
        "val_dataloader = DataLoader(val_dataset, batch_size=batch_size, shuffle=True)\n",
        "test_dataloader = DataLoader(test_dataset, batch_size=batch_size, shuffle=True)"
      ]
    },
    {
      "cell_type": "code",
      "execution_count": null,
      "metadata": {
        "id": "VQ7WpOA0vtk4"
      },
      "outputs": [],
      "source": [
        "import argparse\n",
        "import torch\n",
        "import torch.nn as nn\n",
        "import torch.nn.functional as F\n",
        "import torch.optim as optim\n",
        "from torchvision import datasets, transforms\n",
        "import numpy as np\n",
        "from scipy.spatial.distance import cdist\n",
        "\n",
        "class BorisGraphNet(nn.Module):\n",
        "    def __init__(self, img_size=128, pred_edge=False):\n",
        "        super(BorisGraphNet, self).__init__()\n",
        "        self.pred_edge = pred_edge\n",
        "        N = img_size ** 2\n",
        "        self.fc = nn.Linear(N, 2, bias=False)\n",
        "        if pred_edge:\n",
        "            col, row = np.meshgrid(np.arange(img_size), np.arange(img_size))\n",
        "            coord = np.stack((col, row), axis=2).reshape(-1, 2)\n",
        "            coord = (coord - np.mean(coord, axis=0)) / (np.std(coord, axis=0) + 1e-5)\n",
        "            coord = torch.from_numpy(coord).float()\n",
        "            coord = torch.cat((coord.unsqueeze(0).repeat(N, 1,  1),\n",
        "                                    coord.unsqueeze(1).repeat(1, N, 1)), dim=2)\n",
        "            self.pred_edge_fc = nn.Sequential(nn.Linear(4, 64),\n",
        "                                              nn.ReLU(),\n",
        "                                              nn.Linear(64, 1),\n",
        "                                              nn.Tanh())\n",
        "            self.register_buffer('coord', coord)\n",
        "        else:\n",
        "            A = self.precompute_adjacency_images(img_size)\n",
        "            self.register_buffer('A', A)\n",
        "\n",
        "    @staticmethod\n",
        "    def precompute_adjacency_images(img_size):\n",
        "        col, row = np.meshgrid(np.arange(img_size), np.arange(img_size))\n",
        "        coord = np.stack((col, row), axis=2).reshape(-1, 2) / img_size\n",
        "        dist = cdist(coord, coord)\n",
        "        sigma = 0.05 * np.pi\n",
        "        A = np.exp(-dist / sigma ** 2)\n",
        "        A[A < 0.01] = 0\n",
        "        A = torch.from_numpy(A).float()\n",
        "        D = A.sum(1)\n",
        "        D_hat = (D + 1e-5) ** (-0.5)\n",
        "        A_hat = D_hat.view(-1, 1) * A * D_hat.view(1, -1)\n",
        "        A_hat[A_hat > 0.0001] = A_hat[A_hat > 0.0001] - 0.2\n",
        "        return A_hat\n",
        "\n",
        "    def forward(self, x):\n",
        "        B = x.size(0)\n",
        "        if self.pred_edge:\n",
        "            self.A = self.pred_edge_fc(self.coord).squeeze()\n",
        "        avg_neighbor_features = torch.bmm(self.A.unsqueeze(0).expand(B, -1, -1), x.view(B, -1, 1)).view(B, -1)\n",
        "        return self.fc(avg_neighbor_features)\n",
        "\n",
        "device = torch.device(\"cuda\" if torch.cuda.is_available() else \"cpu\")\n",
        "model = BorisGraphNet().to(device)\n",
        "optimizer = optim.Adam(model.parameters(), lr=0.001)\n",
        "criterion = nn.CrossEntropyLoss()\n",
        "\n",
        "def train(model, dataloader, optimizer, criterion):\n",
        "    model.train()\n",
        "    total_loss = 0.0\n",
        "    correct = 0\n",
        "    total = 0\n",
        "\n",
        "    for images, labels in dataloader:\n",
        "        images, labels = images.to(device), labels.to(device)\n",
        "        optimizer.zero_grad()\n",
        "        outputs = model(images)\n",
        "        loss = criterion(outputs, labels)\n",
        "        loss.backward()\n",
        "        optimizer.step()\n",
        "\n",
        "        total_loss += loss.item()\n",
        "        _, predicted = outputs.max(1)\n",
        "        total += labels.size(0)\n",
        "        correct += predicted.eq(labels).sum().item()\n",
        "\n",
        "    return total_loss / len(dataloader), 100.0 * correct / total\n",
        "\n",
        "def evaluate(model, dataloader, criterion):\n",
        "    model.eval()\n",
        "    total_loss = 0.0\n",
        "    correct = 0\n",
        "    total = 0\n",
        "\n",
        "    with torch.no_grad():\n",
        "        for images, labels in dataloader:\n",
        "            images, labels = images.to(device), labels.to(device)\n",
        "            outputs = model(images)\n",
        "            # print(outputs)\n",
        "            # print(outputs[0], labels[0])\n",
        "            loss = criterion(outputs, labels)\n",
        "\n",
        "            total_loss += loss.item()\n",
        "            _, predicted = outputs.max(1)\n",
        "            total += labels.size(0)\n",
        "            correct += predicted.eq(labels).sum().item()\n",
        "\n",
        "    return total_loss / len(dataloader), 100.0 * correct / total\n",
        "\n",
        "num_epochs = 30\n",
        "\n",
        "for epoch in range(num_epochs):\n",
        "    print(\"training\")\n",
        "    train_loss, train_accuracy = train(model, train_dataloader, optimizer, criterion)\n",
        "    print(\"val\")\n",
        "    val_loss, val_accuracy = evaluate(model, val_dataloader, criterion)\n",
        "    print(f\"Epoch {epoch+1}/{num_epochs}: Train Loss: {train_loss:.4f} | Train Acc: {train_accuracy:.2f}% | Val Loss: {val_loss:.4f} | Val Acc: {val_accuracy:.2f}%\")\n",
        "\n",
        "test_loss, test_accuracy = evaluate(model, test_dataloader, criterion)\n",
        "print(f\"Test Loss: {test_loss:.4f} | Test Acc: {test_accuracy:.2f}%\")"
      ]
    }
  ],
  "metadata": {
    "accelerator": "GPU",
    "colab": {
      "gpuType": "T4",
      "provenance": []
    },
    "kernelspec": {
      "display_name": "Python 3",
      "name": "python3"
    },
    "language_info": {
      "codemirror_mode": {
        "name": "ipython",
        "version": 3
      },
      "file_extension": ".py",
      "mimetype": "text/x-python",
      "name": "python",
      "nbconvert_exporter": "python",
      "pygments_lexer": "ipython3",
      "version": "3.9.7"
    }
  },
  "nbformat": 4,
  "nbformat_minor": 0
}
